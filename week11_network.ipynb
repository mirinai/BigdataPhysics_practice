{
  "nbformat": 4,
  "nbformat_minor": 0,
  "metadata": {
    "colab": {
      "provenance": [],
      "authorship_tag": "ABX9TyP3/+7oFCaM//nnXZ214Aax",
      "include_colab_link": true
    },
    "kernelspec": {
      "name": "python3",
      "display_name": "Python 3"
    },
    "language_info": {
      "name": "python"
    }
  },
  "cells": [
    {
      "cell_type": "markdown",
      "metadata": {
        "id": "view-in-github",
        "colab_type": "text"
      },
      "source": [
        "<a href=\"https://colab.research.google.com/github/mirinai/BigdataPhysics_practice/blob/main/week11_network.ipynb\" target=\"_parent\"><img src=\"https://colab.research.google.com/assets/colab-badge.svg\" alt=\"Open In Colab\"/></a>"
      ]
    },
    {
      "cell_type": "code",
      "execution_count": 3,
      "metadata": {
        "id": "27N0Rg-FrfLl",
        "colab": {
          "base_uri": "https://localhost:8080/"
        },
        "outputId": "591b84ac-c2b4-4efd-fbb2-7d510b3b57e0"
      },
      "outputs": [
        {
          "output_type": "execute_result",
          "data": {
            "text/plain": [
              "False"
            ]
          },
          "metadata": {},
          "execution_count": 3
        }
      ],
      "source": [
        "import numpy as np\n",
        "import matplotlib.pyplot as plt\n",
        "import networkx as nx\n",
        "\n",
        "G = nx.barabasi_albert_graph(100,12)\n"
      ]
    },
    {
      "cell_type": "code",
      "source": [
        "G.has_node(1)\n"
      ],
      "metadata": {
        "colab": {
          "base_uri": "https://localhost:8080/"
        },
        "id": "F4gKLQuQ5dhV",
        "outputId": "f7131a57-a1f8-496f-b5c2-d927216c1a08"
      },
      "execution_count": 5,
      "outputs": [
        {
          "output_type": "execute_result",
          "data": {
            "text/plain": [
              "True"
            ]
          },
          "metadata": {},
          "execution_count": 5
        }
      ]
    },
    {
      "cell_type": "code",
      "source": [
        "G.has_edge(1,100)"
      ],
      "metadata": {
        "colab": {
          "base_uri": "https://localhost:8080/"
        },
        "id": "OqF6w0Ln5feM",
        "outputId": "e70c7d09-f5e3-4f00-f186-24c183970678"
      },
      "execution_count": 6,
      "outputs": [
        {
          "output_type": "execute_result",
          "data": {
            "text/plain": [
              "False"
            ]
          },
          "metadata": {},
          "execution_count": 6
        }
      ]
    },
    {
      "cell_type": "code",
      "source": [
        "nx.clustering(G)"
      ],
      "metadata": {
        "colab": {
          "base_uri": "https://localhost:8080/"
        },
        "id": "siV4UKST5i9r",
        "outputId": "1eea1a56-909a-4900-c1af-df5a5a8c6837"
      },
      "execution_count": 7,
      "outputs": [
        {
          "output_type": "execute_result",
          "data": {
            "text/plain": [
              "{0: 0.2888386123680241,\n",
              " 1: 0.37318840579710144,\n",
              " 2: 0.3076923076923077,\n",
              " 3: 0.26136363636363635,\n",
              " 4: 0.3105263157894737,\n",
              " 5: 0.36666666666666664,\n",
              " 6: 0.2676923076923077,\n",
              " 7: 0.44761904761904764,\n",
              " 8: 0.28024193548387094,\n",
              " 9: 0.31620553359683795,\n",
              " 10: 0.35144927536231885,\n",
              " 11: 0.3046153846153846,\n",
              " 12: 0.2,\n",
              " 13: 0.3072463768115942,\n",
              " 14: 0.26275331935709295,\n",
              " 15: 0.2654600301659125,\n",
              " 16: 0.31153846153846154,\n",
              " 17: 0.3141025641025641,\n",
              " 18: 0.26570048309178745,\n",
              " 19: 0.2658536585365854,\n",
              " 20: 0.2859848484848485,\n",
              " 21: 0.2975609756097561,\n",
              " 22: 0.3058823529411765,\n",
              " 23: 0.27899159663865547,\n",
              " 24: 0.3042016806722689,\n",
              " 25: 0.38,\n",
              " 26: 0.23044096728307253,\n",
              " 27: 0.391812865497076,\n",
              " 28: 0.2987012987012987,\n",
              " 29: 0.24777183600713013,\n",
              " 30: 0.33,\n",
              " 31: 0.24955436720142601,\n",
              " 32: 0.24338624338624337,\n",
              " 33: 0.28063241106719367,\n",
              " 34: 0.2924901185770751,\n",
              " 35: 0.33157894736842103,\n",
              " 36: 0.33766233766233766,\n",
              " 37: 0.3368421052631579,\n",
              " 38: 0.2553846153846154,\n",
              " 39: 0.375,\n",
              " 40: 0.2807017543859649,\n",
              " 41: 0.3619047619047619,\n",
              " 42: 0.3263157894736842,\n",
              " 43: 0.2826086956521739,\n",
              " 44: 0.2894736842105263,\n",
              " 45: 0.30409356725146197,\n",
              " 46: 0.34065934065934067,\n",
              " 47: 0.27450980392156865,\n",
              " 48: 0.2523809523809524,\n",
              " 49: 0.3088235294117647,\n",
              " 50: 0.38421052631578945,\n",
              " 51: 0.3508771929824561,\n",
              " 52: 0.3464052287581699,\n",
              " 53: 0.22924901185770752,\n",
              " 54: 0.35833333333333334,\n",
              " 55: 0.3333333333333333,\n",
              " 56: 0.48484848484848486,\n",
              " 57: 0.38095238095238093,\n",
              " 58: 0.325,\n",
              " 59: 0.3088235294117647,\n",
              " 60: 0.3238095238095238,\n",
              " 61: 0.34615384615384615,\n",
              " 62: 0.3,\n",
              " 63: 0.23333333333333334,\n",
              " 64: 0.3626373626373626,\n",
              " 65: 0.25833333333333336,\n",
              " 66: 0.3904761904761905,\n",
              " 67: 0.34065934065934067,\n",
              " 68: 0.3516483516483517,\n",
              " 69: 0.36666666666666664,\n",
              " 70: 0.18095238095238095,\n",
              " 71: 0.3619047619047619,\n",
              " 72: 0.3238095238095238,\n",
              " 73: 0.25,\n",
              " 74: 0.32051282051282054,\n",
              " 75: 0.3974358974358974,\n",
              " 76: 0.34065934065934067,\n",
              " 77: 0.41025641025641024,\n",
              " 78: 0.34065934065934067,\n",
              " 79: 0.3956043956043956,\n",
              " 80: 0.29523809523809524,\n",
              " 81: 0.3939393939393939,\n",
              " 82: 0.36363636363636365,\n",
              " 83: 0.18681318681318682,\n",
              " 84: 0.24242424242424243,\n",
              " 85: 0.24358974358974358,\n",
              " 86: 0.38461538461538464,\n",
              " 87: 0.38461538461538464,\n",
              " 88: 0.24242424242424243,\n",
              " 89: 0.32051282051282054,\n",
              " 90: 0.3939393939393939,\n",
              " 91: 0.34615384615384615,\n",
              " 92: 0.2878787878787879,\n",
              " 93: 0.3974358974358974,\n",
              " 94: 0.25757575757575757,\n",
              " 95: 0.3181818181818182,\n",
              " 96: 0.16666666666666666,\n",
              " 97: 0.30303030303030304,\n",
              " 98: 0.3484848484848485,\n",
              " 99: 0.2727272727272727}"
            ]
          },
          "metadata": {},
          "execution_count": 7
        }
      ]
    },
    {
      "cell_type": "code",
      "source": [
        "nx.clustering(G)[0]"
      ],
      "metadata": {
        "colab": {
          "base_uri": "https://localhost:8080/"
        },
        "id": "T7f2denp5msD",
        "outputId": "8fd31fcf-d119-4cc2-b638-90dc73d0f936"
      },
      "execution_count": 8,
      "outputs": [
        {
          "output_type": "execute_result",
          "data": {
            "text/plain": [
              "0.2888386123680241"
            ]
          },
          "metadata": {},
          "execution_count": 8
        }
      ]
    },
    {
      "cell_type": "code",
      "source": [
        "nx.clustering(G,0)\n"
      ],
      "metadata": {
        "colab": {
          "base_uri": "https://localhost:8080/"
        },
        "id": "IPYEwU5-5r57",
        "outputId": "36bb87c1-5970-4270-ccb9-4cb8a9e1e4c7"
      },
      "execution_count": 9,
      "outputs": [
        {
          "output_type": "execute_result",
          "data": {
            "text/plain": [
              "0.2888386123680241"
            ]
          },
          "metadata": {},
          "execution_count": 9
        }
      ]
    },
    {
      "cell_type": "code",
      "source": [
        "clusters=0\n",
        "n=G.degree[0]\n",
        "for i in G.neighbors(0):\n",
        "  for j in G.neighbors(0):\n",
        "    if i!=j:\n",
        "      clusters+=G.has_edge(i,j)\n",
        "print(clusters/(n*(n-1)))"
      ],
      "metadata": {
        "colab": {
          "base_uri": "https://localhost:8080/"
        },
        "id": "EdytGTPY5vhT",
        "outputId": "17228f6f-e6fd-4ece-d920-447c67c15690"
      },
      "execution_count": 11,
      "outputs": [
        {
          "output_type": "stream",
          "name": "stdout",
          "text": [
            "0.2888386123680241\n"
          ]
        }
      ]
    },
    {
      "cell_type": "code",
      "source": [
        "nx.average_clustering(G)"
      ],
      "metadata": {
        "colab": {
          "base_uri": "https://localhost:8080/"
        },
        "id": "q82Ru1Jc5_oL",
        "outputId": "8b07bad0-3be6-4651-cabb-994bc6ffe612"
      },
      "execution_count": 12,
      "outputs": [
        {
          "output_type": "execute_result",
          "data": {
            "text/plain": [
              "0.313915350618386"
            ]
          },
          "metadata": {},
          "execution_count": 12
        }
      ]
    },
    {
      "cell_type": "code",
      "source": [
        "np.mean(list(nx.clustering(G).values()))"
      ],
      "metadata": {
        "colab": {
          "base_uri": "https://localhost:8080/"
        },
        "id": "w2NH-w2R6CU8",
        "outputId": "8ef66b13-4c57-41d6-a9e6-62cc6e966be2"
      },
      "execution_count": 13,
      "outputs": [
        {
          "output_type": "execute_result",
          "data": {
            "text/plain": [
              "0.31391535061838627"
            ]
          },
          "metadata": {},
          "execution_count": 13
        }
      ]
    },
    {
      "cell_type": "code",
      "source": [
        "plt.hist(nx.clustering(G).values())"
      ],
      "metadata": {
        "colab": {
          "base_uri": "https://localhost:8080/",
          "height": 522
        },
        "id": "xDE4LRuz6FTr",
        "outputId": "f06c9139-2505-4951-97d3-933c658be78f"
      },
      "execution_count": 14,
      "outputs": [
        {
          "output_type": "execute_result",
          "data": {
            "text/plain": [
              "(array([ 3.,  2., 14., 17., 23., 17., 14.,  8.,  1.,  1.]),\n",
              " array([0.16666667, 0.19848485, 0.23030303, 0.26212121, 0.29393939,\n",
              "        0.32575758, 0.35757576, 0.38939394, 0.42121212, 0.4530303 ,\n",
              "        0.48484848]),\n",
              " <BarContainer object of 10 artists>)"
            ]
          },
          "metadata": {},
          "execution_count": 14
        },
        {
          "output_type": "display_data",
          "data": {
            "text/plain": [
              "<Figure size 640x480 with 1 Axes>"
            ],
            "image/png": "[encoded data removed]"
          },
          "metadata": {}
        }
      ]
    },
    {
      "cell_type": "code",
      "source": [
        "G.degree()"
      ],
      "metadata": {
        "colab": {
          "base_uri": "https://localhost:8080/"
        },
        "id": "XW3r45lb6Ihz",
        "outputId": "ca8de332-117b-46a4-9c71-8f616c4e51fe"
      },
      "execution_count": 15,
      "outputs": [
        {
          "output_type": "execute_result",
          "data": {
            "text/plain": [
              "DegreeView({0: 52, 1: 24, 2: 26, 3: 33, 4: 20, 5: 16, 6: 26, 7: 21, 8: 32, 9: 23, 10: 24, 11: 26, 12: 5, 13: 46, 14: 54, 15: 52, 16: 40, 17: 40, 18: 46, 19: 41, 20: 33, 21: 41, 22: 35, 23: 35, 24: 35, 25: 25, 26: 38, 27: 19, 28: 22, 29: 34, 30: 25, 31: 34, 32: 28, 33: 23, 34: 23, 35: 20, 36: 22, 37: 20, 38: 26, 39: 17, 40: 19, 41: 21, 42: 20, 43: 24, 44: 20, 45: 19, 46: 14, 47: 18, 48: 21, 49: 17, 50: 20, 51: 19, 52: 18, 53: 23, 54: 16, 55: 19, 56: 12, 57: 15, 58: 16, 59: 17, 60: 15, 61: 13, 62: 16, 63: 16, 64: 14, 65: 16, 66: 15, 67: 14, 68: 14, 69: 16, 70: 15, 71: 15, 72: 15, 73: 16, 74: 13, 75: 13, 76: 14, 77: 13, 78: 14, 79: 14, 80: 15, 81: 12, 82: 12, 83: 14, 84: 12, 85: 13, 86: 13, 87: 13, 88: 12, 89: 13, 90: 12, 91: 13, 92: 12, 93: 13, 94: 12, 95: 12, 96: 12, 97: 12, 98: 12, 99: 12})"
            ]
          },
          "metadata": {},
          "execution_count": 15
        }
      ]
    },
    {
      "cell_type": "code",
      "source": [
        "[degree for node,degree in G.degree()]\n"
      ],
      "metadata": {
        "colab": {
          "base_uri": "https://localhost:8080/"
        },
        "id": "K41Omno76Lvr",
        "outputId": "a8bca407-8a4e-43ad-84eb-d25e3a95ea4e"
      },
      "execution_count": 16,
      "outputs": [
        {
          "output_type": "execute_result",
          "data": {
            "text/plain": [
              "[52,\n",
              " 24,\n",
              " 26,\n",
              " 33,\n",
              " 20,\n",
              " 16,\n",
              " 26,\n",
              " 21,\n",
              " 32,\n",
              " 23,\n",
              " 24,\n",
              " 26,\n",
              " 5,\n",
              " 46,\n",
              " 54,\n",
              " 52,\n",
              " 40,\n",
              " 40,\n",
              " 46,\n",
              " 41,\n",
              " 33,\n",
              " 41,\n",
              " 35,\n",
              " 35,\n",
              " 35,\n",
              " 25,\n",
              " 38,\n",
              " 19,\n",
              " 22,\n",
              " 34,\n",
              " 25,\n",
              " 34,\n",
              " 28,\n",
              " 23,\n",
              " 23,\n",
              " 20,\n",
              " 22,\n",
              " 20,\n",
              " 26,\n",
              " 17,\n",
              " 19,\n",
              " 21,\n",
              " 20,\n",
              " 24,\n",
              " 20,\n",
              " 19,\n",
              " 14,\n",
              " 18,\n",
              " 21,\n",
              " 17,\n",
              " 20,\n",
              " 19,\n",
              " 18,\n",
              " 23,\n",
              " 16,\n",
              " 19,\n",
              " 12,\n",
              " 15,\n",
              " 16,\n",
              " 17,\n",
              " 15,\n",
              " 13,\n",
              " 16,\n",
              " 16,\n",
              " 14,\n",
              " 16,\n",
              " 15,\n",
              " 14,\n",
              " 14,\n",
              " 16,\n",
              " 15,\n",
              " 15,\n",
              " 15,\n",
              " 16,\n",
              " 13,\n",
              " 13,\n",
              " 14,\n",
              " 13,\n",
              " 14,\n",
              " 14,\n",
              " 15,\n",
              " 12,\n",
              " 12,\n",
              " 14,\n",
              " 12,\n",
              " 13,\n",
              " 13,\n",
              " 13,\n",
              " 12,\n",
              " 13,\n",
              " 12,\n",
              " 13,\n",
              " 12,\n",
              " 13,\n",
              " 12,\n",
              " 12,\n",
              " 12,\n",
              " 12,\n",
              " 12,\n",
              " 12]"
            ]
          },
          "metadata": {},
          "execution_count": 16
        }
      ]
    },
    {
      "cell_type": "code",
      "source": [
        "from google.colab import drive\n",
        "drive.mount('/content/drive')"
      ],
      "metadata": {
        "id": "k0A55BZBrp5B"
      },
      "execution_count": null,
      "outputs": []
    }
  ]
}