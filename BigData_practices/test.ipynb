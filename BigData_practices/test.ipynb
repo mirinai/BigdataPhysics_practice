{
 "cells": [
  {
   "cell_type": "code",
   "execution_count": 1,
   "metadata": {},
   "outputs": [
    {
     "name": "stdout",
     "output_type": "stream",
     "text": [
      "시그마 n=1~10까지 n더하기 = 55,\t시그마 n=1~10까지 n**2더하기의 리스트 : [1, 5, 14, 30, 55, 91, 140, 204, 285, 385]\n",
      "\n",
      "--------------\n",
      "Fibo_list :  [1, 1, 2, 3, 5, 8, 13, 21, 34, 55, 89]\n",
      "\n",
      "sum of Fibonacci numbers from Fibo_list : 232\n"
     ]
    }
   ],
   "source": [
    "# 1\n",
    "def sigma_n1(n):\n",
    "    sum = 0\n",
    "    for i in range(1, n + 1):\n",
    "        sum += i\n",
    "    return sum\n",
    "\n",
    "def sigma_n2(n):\n",
    "    lst = []\n",
    "    sum = 0\n",
    "    for i in range(1, n + 1):\n",
    "        sum += i ** 2\n",
    "        lst.append(sum)\n",
    "    return lst\n",
    "\n",
    "num = int(input(\"num값 입력 :\"))\n",
    "result1 = sigma_n1(num)\n",
    "print(\"시그마 n=1~%d까지 n더하기 = %d\" % (num, result1), end=\",\\t\")\n",
    "\n",
    "result2 = sigma_n2(num)\n",
    "print(\"시그마 n=1~%d까지 n**2더하기의 리스트 :\"% (num),result2)\n",
    "\n",
    "print(\"\\n--------------\")\n",
    "# 2\n",
    "Fibo_list = [0] * (num + 1)  # 리스트 초기화\n",
    "\n",
    "Fibo_list[0] = 1\n",
    "Fibo_list[1] = 1\n",
    "Fibonacci_sum = 0\n",
    "\n",
    "# 3\n",
    "for i in range(2, num + 1):\n",
    "    Fibo_list[i] = Fibo_list[i - 1] + Fibo_list[i - 2]\n",
    "\n",
    "print(\"Fibo_list : \", Fibo_list)\n",
    "print()\n",
    "for i in Fibo_list:\n",
    "    Fibonacci_sum += i\n",
    "print(\"sum of Fibonacci numbers from Fibo_list : %d\" % Fibonacci_sum)"
   ]
  }
 ],
 "metadata": {
  "kernelspec": {
   "display_name": "Python 3",
   "language": "python",
   "name": "python3"
  },
  "language_info": {
   "codemirror_mode": {
    "name": "ipython",
    "version": 3
   },
   "file_extension": ".py",
   "mimetype": "text/x-python",
   "name": "python",
   "nbconvert_exporter": "python",
   "pygments_lexer": "ipython3",
   "version": "3.9.10"
  }
 },
 "nbformat": 4,
 "nbformat_minor": 2
}
