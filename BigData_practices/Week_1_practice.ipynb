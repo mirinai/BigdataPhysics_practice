{
  "cells": [
    {
      "cell_type": "code",
      "execution_count": null,
      "metadata": {
        "colab": {
          "base_uri": "https://localhost:8080/"
        },
        "id": "zK0Av4fyaYeJ",
        "outputId": "b17ecf56-d222-43aa-88f9-c5de52c98df1"
      },
      "outputs": [
        {
          "name": "stdout",
          "output_type": "stream",
          "text": [
            "10 Years Old\n",
            "55 Years Old\n"
          ]
        }
      ],
      "source": [
        "'''\n",
        "practice2\n",
        "\n",
        "Define a list Ages=[10, 25, 40, 55]\n",
        "You need to print how old the youngest(first element) and the oldest(last element) are.\n",
        "Your outcome should be\n",
        ">>\n",
        "10 Years Old\n",
        "55 Years Old\n",
        "Write a code using index, print(), str(), and arithmetic operators(If you need)\n",
        "'''\n",
        "Ages=[10, 25, 40, 55]\n",
        "print(\"%d Years Old\"%Ages[0])\n",
        "print(\"%d Years Old\"%Ages[3])\n",
        "\n",
        "\n",
        "#for i in Ages:\n"
      ]
    },
    {
      "cell_type": "code",
      "execution_count": 1,
      "metadata": {
        "colab": {
          "base_uri": "https://localhost:8080/"
        },
        "id": "wpbZ0hZXcq8C",
        "outputId": "eae4fec2-176f-4b78-e38b-e6d34effd526"
      },
      "outputs": [
        {
          "name": "stdout",
          "output_type": "stream",
          "text": [
            "시그마 n=1~10까지 n더하기 = 55,\t시그마 n=1~10까지 n**2더하기의 리스트 : [1, 5, 14, 30, 55, 91, 140, 204, 285, 385]\n",
            "\n",
            "--------------\n",
            "Fibo_list :  [1, 1, 2, 3, 5, 8, 13, 21, 34, 55, 89]\n",
            "\n",
            "sum of Fibonacci numbers from Fibo_list : 232\n"
          ]
        }
      ],
      "source": [
        "'''\n",
        "practice3\n",
        "\n",
        "1. 시그마 n=1~10까지 n더하기, 시그마 n=1~10까지 n**2더하기\n",
        "2\n",
        "(hint: use for loop)\n",
        "\n",
        "2. Obtain Fibbonacci numbers up to F10 and append to the list\n",
        "F0 = 1, F1 = 1, Fn+1 = Fm + Fn-1\n",
        "3. Calculate sum of Fibbonacci numbers from list obtained from 2\n",
        "'''\n",
        "#1\n",
        "def sigma_n1(n):\n",
        "  sum=0\n",
        "  for i in range(1,n+1,1):\n",
        "    sum=sum+i\n",
        "  return sum\n",
        "def sigma_n2(n):\n",
        "  lst=[]\n",
        "  sum=0\n",
        "  for i in range(1,n+1,1):\n",
        "    sum+=i**2\n",
        "    lst.append(sum)\n",
        "  return lst\n",
        "num=10\n",
        "result1=sigma_n1(num)\n",
        "print(\"시그마 n=1~%d까지 n더하기 = %d\"%(num,result1),end=\",\\t\")\n",
        "\n",
        "result2=sigma_n2(num)\n",
        "print(\"시그마 n=1~10까지 n**2더하기의 리스트 :\",result2)\n",
        "\n",
        "print(\"\\n--------------\")\n",
        "#2\n",
        "Fibo_list=[]\n",
        "\n",
        "for i in range(0,num+1,1):\n",
        "  Fibo_list.append(0)\n",
        "\n",
        "Fibo_list[0]=1\n",
        "Fibo_list[1]=1\n",
        "Fibonacci_sum=0\n",
        "sum=0\n",
        "#3\n",
        "for i in range(0,num+1,1):\n",
        "  if i+1 == num:\n",
        "    break\n",
        "  Fibo_list[i+2]=Fibo_list[i]+Fibo_list[i+1]\n",
        "\n",
        "\n",
        "print(\"Fibo_list : \",Fibo_list)\n",
        "print()\n",
        "for i in Fibo_list:\n",
        "  Fibonacci_sum+=i\n",
        "print(\"sum of Fibonacci numbers from Fibo_list : %d\"%Fibonacci_sum)\n"
      ]
    }
  ],
  "metadata": {
    "colab": {
      "provenance": []
    },
    "kernelspec": {
      "display_name": "Python 3",
      "name": "python3"
    },
    "language_info": {
      "codemirror_mode": {
        "name": "ipython",
        "version": 3
      },
      "file_extension": ".py",
      "mimetype": "text/x-python",
      "name": "python",
      "nbconvert_exporter": "python",
      "pygments_lexer": "ipython3",
      "version": "3.9.10"
    }
  },
  "nbformat": 4,
  "nbformat_minor": 0
}
