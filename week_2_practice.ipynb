{
  "nbformat": 4,
  "nbformat_minor": 0,
  "metadata": {
    "colab": {
      "provenance": []
    },
    "kernelspec": {
      "name": "python3",
      "display_name": "Python 3"
    },
    "language_info": {
      "name": "python"
    }
  },
  "cells": [
    {
      "cell_type": "code",
      "execution_count": 18,
      "metadata": {
        "colab": {
          "base_uri": "https://localhost:8080/"
        },
        "id": "obaPj5rGdywj",
        "outputId": "35e36dac-2909-41b8-868a-66507ab86c0b"
      },
      "outputs": [
        {
          "output_type": "stream",
          "name": "stdout",
          "text": [
            "sum = 1.64\n",
            "\n",
            "----------------------\n",
            "years taking to be 2000dollars : 15 years\n",
            "\n",
            "----------------------\n",
            "prime number : 2 3 5 7 11 13 17 19 23 29 31 37 41 43 47 53 59 61 67 71 73 79 83 89 97 \n",
            "----------------------\n"
          ]
        }
      ],
      "source": [
        "#practice1\n",
        "import numpy as np\n",
        "\n",
        "#1\n",
        "n=1\n",
        "sum=0.0\n",
        "while True:\n",
        "  if (1/(n*n))< 10**(-6):\n",
        "    break\n",
        "  sum+=1/(n*n)\n",
        "  #print(sum)\n",
        "  n+=1\n",
        "print(\"sum = %.2f\"%sum)\n",
        "print(\"\\n----------------------\")\n",
        "#2\n",
        "'''\n",
        "1000달러가 계좌에 있음\n",
        "해마다 5%이자가 붙으면 2000달러까지 몇년이 걸림?\n",
        "'''\n",
        "\n",
        "moneyInAccount=1000\n",
        "year=0\n",
        "while True:\n",
        "  if moneyInAccount >=2000:\n",
        "    break\n",
        "  moneyInAccount*=(105/100)\n",
        "  year+=1\n",
        "print(\"years taking to be 2000dollars : %d years\"% year)\n",
        "\n",
        "\n",
        "print(\"\\n----------------------\")\n",
        "#3\n",
        "#100까지 소수 찾기\n",
        "count=0\n",
        "primeList=[]\n",
        "for i in range(2,101,1):\n",
        "  for j in range(1,i+1):\n",
        "    if i%j==0:\n",
        "      count+=1\n",
        "  if count==2:\n",
        "    primeList.append(i)\n",
        "  count=0\n",
        "print(\"prime number :\",end=\" \")\n",
        "for i in primeList:\n",
        "  print(\"%d\"%i, end=\" \")\n",
        "print(\"\\n----------------------\")\n"
      ]
    },
    {
      "cell_type": "code",
      "source": [
        "#practice2\n",
        "'''1. Make a function that finds all prime numbers upto n\n",
        "hint: input = n, outcome= list of prime numbers\n",
        "'''\n",
        "#에라토스테네스의 체를 쓰기\n",
        "def getting_prime_num(n):\n",
        "    primes = []\n",
        "    isPrimes = [False, False]  # 0과 1은 소수가 아님\n",
        "\n",
        "    for _ in range(2, n + 1):\n",
        "        isPrimes.append(True)\n",
        "\n",
        "    for i in range(2, int(n**0.5) + 1):\n",
        "        if isPrimes[i]:\n",
        "            for j in range(i * i, n + 1, i):\n",
        "                isPrimes[j] = False\n",
        "\n",
        "    for i in range(2, n + 1):\n",
        "        if isPrimes[i]:\n",
        "            primes.append(i)\n",
        "    return primes\n",
        "\n",
        "def output_spacebar(lst):\n",
        "    print(\"prime number:\", end=\" \")\n",
        "    for i in lst:\n",
        "        print(\"%d\" % i, end=\" \")\n",
        "\n",
        "n = int(input(\"숫자입력: \"))\n",
        "result = getting_prime_num(n)\n",
        "output_spacebar(result)\n",
        "\n",
        "\n",
        "\n",
        "\n",
        "\n",
        "\n"
      ],
      "metadata": {
        "colab": {
          "base_uri": "https://localhost:8080/"
        },
        "id": "QNt09KSDndMN",
        "outputId": "53fa2abd-8e58-4218-dff1-5008196b83e3"
      },
      "execution_count": 25,
      "outputs": [
        {
          "output_type": "stream",
          "name": "stdout",
          "text": [
            "숫자입력: 100\n",
            "prime number: 2 3 5 7 11 13 17 19 23 29 31 37 41 43 47 53 59 61 67 71 73 79 83 89 97 "
          ]
        }
      ]
    },
    {
      "cell_type": "code",
      "source": [
        "#practice3\n",
        "import numpy as np\n",
        "\n",
        "'''Let\n",
        "a_list=[1, 2, 3], b_list=[1,4,9]\n",
        "a_arr=np.array(a_list), b_arr=np.array(b_list'''\n",
        "a_list=[1, 2, 3]\n",
        "b_list=[1,4,9]\n",
        "\n",
        "a_arr=np.array(a_list)\n",
        "b_arr=np.array(b_list)\n",
        "#1\n",
        "print(\"a_list+b_list :\",a_list+b_list)\n",
        "print(\"a_arr + b_arr :\",a_arr + b_arr)"
      ],
      "metadata": {
        "colab": {
          "base_uri": "https://localhost:8080/"
        },
        "id": "NcL3_hVlut2q",
        "outputId": "8eb8953e-89ce-405e-9509-9372cc1c7c4e"
      },
      "execution_count": 28,
      "outputs": [
        {
          "output_type": "stream",
          "name": "stdout",
          "text": [
            "a_list+b_list : [1, 2, 3, 1, 4, 9]\n",
            "a_arr + b_arr : [ 2  6 12]\n"
          ]
        }
      ]
    }
  ]
}